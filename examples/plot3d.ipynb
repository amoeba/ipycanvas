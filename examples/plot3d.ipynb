{
 "cells": [
  {
   "cell_type": "code",
   "execution_count": null,
   "metadata": {},
   "outputs": [],
   "source": [
    "import numpy as np\n",
    "from ipycanvas import Canvas, hold_canvas\n",
    "from math import pi, cos, sin, tan"
   ]
  },
  {
   "cell_type": "code",
   "execution_count": null,
   "metadata": {},
   "outputs": [],
   "source": [
    "def pad_ones(x, y, z):\n",
    "    return np.array([x, y, z, np.ones_like(x)])"
   ]
  },
  {
   "cell_type": "code",
   "execution_count": null,
   "metadata": {},
   "outputs": [],
   "source": [
    "def project_vector(x, y, z, matrix):\n",
    "    vec = np.dot(matrix, pad_ones(x, y, z))\n",
    "\n",
    "    return vec[0]/vec[3], vec[1]/vec[3], vec[2]/vec[3]"
   ]
  },
  {
   "cell_type": "code",
   "execution_count": null,
   "metadata": {},
   "outputs": [],
   "source": [
    "def normalize(vec):\n",
    "    return vec / np.linalg.norm(vec)"
   ]
  },
  {
   "cell_type": "code",
   "execution_count": null,
   "metadata": {},
   "outputs": [],
   "source": [
    "def get_look_at_matrix(eye, center, up):\n",
    "    forward = normalize(center - eye)\n",
    "    side = normalize(np.cross(forward, up))\n",
    "\n",
    "    # Compute the real up\n",
    "    up = normalize(np.cross(side, forward))\n",
    "\n",
    "    # Compute translation factors\n",
    "    tx = - side[0] * eye[0] - side[1] * eye[1] - side[2] * eye[2] + 1\n",
    "    ty = - up[0] * eye[0] - up[1] * eye[1] - up[2] * eye[2] + 1\n",
    "    tz = forward[0] * eye[0] + forward[1] * eye[1] + forward[2] * eye[2] + 1\n",
    "\n",
    "    return np.array([\n",
    "        [    side[0],     side[1],     side[2], tx],\n",
    "        [      up[0],       up[1],       up[2], ty],\n",
    "        [-forward[0], -forward[1], -forward[2], tz],\n",
    "        [          0,           0,           0,  1]\n",
    "    ])"
   ]
  },
  {
   "cell_type": "code",
   "execution_count": null,
   "metadata": {},
   "outputs": [],
   "source": [
    "def get_perspective_matrix(fovy, aspect, near, far):\n",
    "    f = 1. / tan(fovy * pi / 360.)\n",
    "\n",
    "    return np.array([\n",
    "        [f/aspect, 0,                           0,                           0],\n",
    "        [       0, f,                           0,                           0],\n",
    "        [       0, 0,   (near + far)/(near - far), 2 * near * far/(near - far)],\n",
    "        [       0, 0,                          -1,                           0]\n",
    "    ])"
   ]
  },
  {
   "cell_type": "code",
   "execution_count": null,
   "metadata": {},
   "outputs": [],
   "source": [
    "def get_projection(elev, azim, radius, aspect):\n",
    "    relev, razim = np.pi * elev/180, np.pi * azim/180\n",
    "\n",
    "    center = np.array([0, 0, 0])\n",
    "\n",
    "    xp = cos(razim) * cos(relev) * radius\n",
    "    yp = sin(razim) * cos(relev) * radius\n",
    "    zp = sin(relev) * radius\n",
    "    eye = - np.array((xp, yp, zp))\n",
    "\n",
    "    if abs(relev) > pi / 2.:\n",
    "        up = np.array((0, 0, -1))\n",
    "    else:\n",
    "        up = np.array((0, 0, 1))\n",
    "\n",
    "    view_matrix = get_look_at_matrix(eye, center, up)\n",
    "    projection_matrix = get_perspective_matrix(70, aspect, 0.5, 2 * radius)\n",
    "    return np.dot(projection_matrix, view_matrix)"
   ]
  },
  {
   "cell_type": "code",
   "execution_count": null,
   "metadata": {},
   "outputs": [],
   "source": [
    "class Plot3d(Canvas):\n",
    "    def __init__(self):\n",
    "        super(Plot3d, self).__init__(size=(500, 500))\n",
    "        \n",
    "        self.width = 500\n",
    "        self.height = 500\n",
    "\n",
    "        self.dragging = False\n",
    "        self.n = 200\n",
    "        self.x = np.random.rand(self.n) - 0.5\n",
    "        self.y = np.random.rand(self.n) - 0.5\n",
    "        self.z = np.random.rand(self.n) - 0.5\n",
    "\n",
    "        self.radius = 5\n",
    "        self.dx = 0\n",
    "        self.dy = 0\n",
    "        self.matrix = get_projection(self.dy, self.dx, self.radius, self.width / self.height)\n",
    "        self.x2, self.y2, _ = project_vector(self.x, self.y, self.z, self.matrix)\n",
    "        self.draw()\n",
    "\n",
    "        self.on_mouse_down(self.mouse_down_handler)\n",
    "        self.on_mouse_move(self.mouse_move_handler)\n",
    "        self.on_mouse_up(self.mouse_up_handler)\n",
    "        self.on_mouse_out(self.mouse_out_handler)\n",
    "\n",
    "    def draw(self):\n",
    "        x = self.x2 * self.width + self.width / 2\n",
    "        y = self.y2 * self.height + self.height / 2\n",
    "        with hold_canvas(self):\n",
    "            self.clear()\n",
    "            self.fill_circles(x, y, 3)\n",
    "\n",
    "    def mouse_down_handler(self, pixel_x, pixel_y):\n",
    "        self.dragging = True\n",
    "        self.x_mouse = pixel_x\n",
    "        self.y_mouse = pixel_y\n",
    "\n",
    "    def mouse_move_handler(self, pixel_x, pixel_y):\n",
    "        if self.dragging:\n",
    "            self.dx_new = self.dx + pixel_x - self.x_mouse\n",
    "            self.dy_new = self.dy + pixel_y - self.y_mouse\n",
    "\n",
    "            self.matrix = get_projection(self.dy_new, self.dx_new, self.radius, self.width / self.height)\n",
    "            self.x2, self.y2, _ = project_vector(self.x, self.y, self.z, self.matrix)\n",
    "            self.draw()\n",
    "    \n",
    "    def mouse_up_handler(self, pixel_x, pixel_y):\n",
    "        if self.dragging:\n",
    "            self.dragging = False\n",
    "            self.dx = self.dx_new\n",
    "            self.dy = self.dy_new\n",
    "    \n",
    "    def mouse_out_handler(self, pixel_x, pixel_y):\n",
    "        if self.dragging:\n",
    "            self.dragging = False\n",
    "            self.dx = self.dx_new\n",
    "            self.dy = self.dy_new"
   ]
  },
  {
   "cell_type": "code",
   "execution_count": null,
   "metadata": {
    "scrolled": false
   },
   "outputs": [],
   "source": [
    "p = Plot3d()\n",
    "p"
   ]
  }
 ],
 "metadata": {
  "kernelspec": {
   "display_name": "Python 3",
   "language": "python",
   "name": "python3"
  },
  "language_info": {
   "codemirror_mode": {
    "name": "ipython",
    "version": 3
   },
   "file_extension": ".py",
   "mimetype": "text/x-python",
   "name": "python",
   "nbconvert_exporter": "python",
   "pygments_lexer": "ipython3",
   "version": "3.9.0"
  }
 },
 "nbformat": 4,
 "nbformat_minor": 2
}
